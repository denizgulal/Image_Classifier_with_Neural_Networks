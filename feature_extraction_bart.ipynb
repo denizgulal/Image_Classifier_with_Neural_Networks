{
  "nbformat": 4,
  "nbformat_minor": 0,
  "metadata": {
    "colab": {
      "provenance": [],
      "authorship_tag": "ABX9TyPJT6Fr6Ytz0RdwVXz0S9xa",
      "include_colab_link": true
    },
    "kernelspec": {
      "name": "python3",
      "display_name": "Python 3"
    },
    "language_info": {
      "name": "python"
    }
  },
  "cells": [
    {
      "cell_type": "markdown",
      "metadata": {
        "id": "view-in-github",
        "colab_type": "text"
      },
      "source": [
        "<a href=\"https://colab.research.google.com/github/denizgulal/Image_Classifier_with_Neural_Networks/blob/main/feature_extraction_bart.ipynb\" target=\"_parent\"><img src=\"https://colab.research.google.com/assets/colab-badge.svg\" alt=\"Open In Colab\"/></a>"
      ]
    },
    {
      "cell_type": "code",
      "execution_count": 1,
      "metadata": {
        "id": "TD8f8zjGUi78"
      },
      "outputs": [],
      "source": [
        "import cv2\n",
        "import numpy as np\n",
        "import os\n",
        "import zipfile\n",
        "from google.colab.patches import cv2_imshow\n",
        "import tensorflow as tf\n",
        "import pandas as pd\n",
        "import seaborn as sns\n",
        "import matplotlib.pyplot as plt"
      ]
    },
    {
      "cell_type": "code",
      "source": [
        "from google.colab import drive\n",
        "drive.mount('/content/drive')"
      ],
      "metadata": {
        "colab": {
          "base_uri": "https://localhost:8080/"
        },
        "id": "gMFLJ5O3U2uH",
        "outputId": "14c5887e-2f31-4d1b-ba47-205b00fdbad1"
      },
      "execution_count": 2,
      "outputs": [
        {
          "output_type": "stream",
          "name": "stdout",
          "text": [
            "Mounted at /content/drive\n"
          ]
        }
      ]
    },
    {
      "cell_type": "code",
      "source": [
        "path ='/content/drive/MyDrive/Computer Vision Masterclass/Datasets/homer_bart_1.zip'\n",
        "zip_object = zipfile.ZipFile(file = path, mode = 'r')\n",
        "zip_object.extractall('./')\n",
        "zip_object.close()"
      ],
      "metadata": {
        "id": "UmYrT4Z_U41b"
      },
      "execution_count": 3,
      "outputs": []
    },
    {
      "cell_type": "code",
      "source": [
        "directory = '/content/homer_bart_1'\n",
        "files = [os.path.join(directory, f) for f in sorted(os.listdir(directory))]\n",
        "print(files)"
      ],
      "metadata": {
        "colab": {
          "base_uri": "https://localhost:8080/"
        },
        "id": "_t8qqFY_U9Pi",
        "outputId": "324ce3f3-56e9-49e4-f97c-54cb5fcaf2b7"
      },
      "execution_count": 4,
      "outputs": [
        {
          "output_type": "stream",
          "name": "stdout",
          "text": [
            "['/content/homer_bart_1/.DS_Store', '/content/homer_bart_1/bart1.bmp', '/content/homer_bart_1/bart10.bmp', '/content/homer_bart_1/bart100.bmp', '/content/homer_bart_1/bart101.bmp', '/content/homer_bart_1/bart102.bmp', '/content/homer_bart_1/bart103.bmp', '/content/homer_bart_1/bart104.bmp', '/content/homer_bart_1/bart105.bmp', '/content/homer_bart_1/bart106.bmp', '/content/homer_bart_1/bart108.bmp', '/content/homer_bart_1/bart109.bmp', '/content/homer_bart_1/bart11.bmp', '/content/homer_bart_1/bart110.bmp', '/content/homer_bart_1/bart111.bmp', '/content/homer_bart_1/bart112.bmp', '/content/homer_bart_1/bart113.bmp', '/content/homer_bart_1/bart114.bmp', '/content/homer_bart_1/bart115.bmp', '/content/homer_bart_1/bart116.bmp', '/content/homer_bart_1/bart117.bmp', '/content/homer_bart_1/bart118.bmp', '/content/homer_bart_1/bart119.bmp', '/content/homer_bart_1/bart12.bmp', '/content/homer_bart_1/bart120.bmp', '/content/homer_bart_1/bart121.bmp', '/content/homer_bart_1/bart122.bmp', '/content/homer_bart_1/bart123.bmp', '/content/homer_bart_1/bart124.bmp', '/content/homer_bart_1/bart125.bmp', '/content/homer_bart_1/bart126.bmp', '/content/homer_bart_1/bart127.bmp', '/content/homer_bart_1/bart128.bmp', '/content/homer_bart_1/bart13.bmp', '/content/homer_bart_1/bart130.bmp', '/content/homer_bart_1/bart131.bmp', '/content/homer_bart_1/bart132.bmp', '/content/homer_bart_1/bart133.bmp', '/content/homer_bart_1/bart134.bmp', '/content/homer_bart_1/bart135.bmp', '/content/homer_bart_1/bart136.bmp', '/content/homer_bart_1/bart137.bmp', '/content/homer_bart_1/bart138.bmp', '/content/homer_bart_1/bart139.bmp', '/content/homer_bart_1/bart14.bmp', '/content/homer_bart_1/bart141.bmp', '/content/homer_bart_1/bart142.bmp', '/content/homer_bart_1/bart143.bmp', '/content/homer_bart_1/bart144.bmp', '/content/homer_bart_1/bart145.bmp', '/content/homer_bart_1/bart146.bmp', '/content/homer_bart_1/bart147.bmp', '/content/homer_bart_1/bart148.bmp', '/content/homer_bart_1/bart149.bmp', '/content/homer_bart_1/bart15.bmp', '/content/homer_bart_1/bart150.bmp', '/content/homer_bart_1/bart151.bmp', '/content/homer_bart_1/bart153.bmp', '/content/homer_bart_1/bart154.bmp', '/content/homer_bart_1/bart155.bmp', '/content/homer_bart_1/bart156.bmp', '/content/homer_bart_1/bart157.bmp', '/content/homer_bart_1/bart158.bmp', '/content/homer_bart_1/bart159.bmp', '/content/homer_bart_1/bart16.bmp', '/content/homer_bart_1/bart160.bmp', '/content/homer_bart_1/bart161.bmp', '/content/homer_bart_1/bart162.bmp', '/content/homer_bart_1/bart164.bmp', '/content/homer_bart_1/bart165.bmp', '/content/homer_bart_1/bart166.bmp', '/content/homer_bart_1/bart167.bmp', '/content/homer_bart_1/bart168.bmp', '/content/homer_bart_1/bart169.bmp', '/content/homer_bart_1/bart17.bmp', '/content/homer_bart_1/bart18.bmp', '/content/homer_bart_1/bart19.bmp', '/content/homer_bart_1/bart2.bmp', '/content/homer_bart_1/bart20.bmp', '/content/homer_bart_1/bart21.bmp', '/content/homer_bart_1/bart22.bmp', '/content/homer_bart_1/bart23.bmp', '/content/homer_bart_1/bart24.bmp', '/content/homer_bart_1/bart25.bmp', '/content/homer_bart_1/bart26.bmp', '/content/homer_bart_1/bart27.bmp', '/content/homer_bart_1/bart28.bmp', '/content/homer_bart_1/bart29.bmp', '/content/homer_bart_1/bart3.bmp', '/content/homer_bart_1/bart30.bmp', '/content/homer_bart_1/bart31.bmp', '/content/homer_bart_1/bart32.bmp', '/content/homer_bart_1/bart34.bmp', '/content/homer_bart_1/bart35.bmp', '/content/homer_bart_1/bart36.bmp', '/content/homer_bart_1/bart37.bmp', '/content/homer_bart_1/bart38.bmp', '/content/homer_bart_1/bart39.bmp', '/content/homer_bart_1/bart4.bmp', '/content/homer_bart_1/bart40.bmp', '/content/homer_bart_1/bart42.bmp', '/content/homer_bart_1/bart43.bmp', '/content/homer_bart_1/bart44.bmp', '/content/homer_bart_1/bart45.bmp', '/content/homer_bart_1/bart46.bmp', '/content/homer_bart_1/bart47.bmp', '/content/homer_bart_1/bart48.bmp', '/content/homer_bart_1/bart49.bmp', '/content/homer_bart_1/bart5.bmp', '/content/homer_bart_1/bart50.bmp', '/content/homer_bart_1/bart51.bmp', '/content/homer_bart_1/bart52.bmp', '/content/homer_bart_1/bart53.bmp', '/content/homer_bart_1/bart54.bmp', '/content/homer_bart_1/bart55.bmp', '/content/homer_bart_1/bart56.bmp', '/content/homer_bart_1/bart57.bmp', '/content/homer_bart_1/bart58.bmp', '/content/homer_bart_1/bart59.bmp', '/content/homer_bart_1/bart6.bmp', '/content/homer_bart_1/bart60.bmp', '/content/homer_bart_1/bart61.bmp', '/content/homer_bart_1/bart62.bmp', '/content/homer_bart_1/bart63.bmp', '/content/homer_bart_1/bart64.bmp', '/content/homer_bart_1/bart65.bmp', '/content/homer_bart_1/bart66.bmp', '/content/homer_bart_1/bart67.bmp', '/content/homer_bart_1/bart68.bmp', '/content/homer_bart_1/bart69.bmp', '/content/homer_bart_1/bart7.bmp', '/content/homer_bart_1/bart70.bmp', '/content/homer_bart_1/bart71.bmp', '/content/homer_bart_1/bart72.bmp', '/content/homer_bart_1/bart73.bmp', '/content/homer_bart_1/bart74.bmp', '/content/homer_bart_1/bart75.bmp', '/content/homer_bart_1/bart76.bmp', '/content/homer_bart_1/bart77.bmp', '/content/homer_bart_1/bart79.bmp', '/content/homer_bart_1/bart8.bmp', '/content/homer_bart_1/bart80.bmp', '/content/homer_bart_1/bart81.bmp', '/content/homer_bart_1/bart82.bmp', '/content/homer_bart_1/bart83.bmp', '/content/homer_bart_1/bart84.bmp', '/content/homer_bart_1/bart85.bmp', '/content/homer_bart_1/bart86.bmp', '/content/homer_bart_1/bart87.bmp', '/content/homer_bart_1/bart89.bmp', '/content/homer_bart_1/bart9.bmp', '/content/homer_bart_1/bart90.bmp', '/content/homer_bart_1/bart91.bmp', '/content/homer_bart_1/bart92.bmp', '/content/homer_bart_1/bart93.bmp', '/content/homer_bart_1/bart94.bmp', '/content/homer_bart_1/bart95.bmp', '/content/homer_bart_1/bart96.bmp', '/content/homer_bart_1/bart97.bmp', '/content/homer_bart_1/bart98.bmp', '/content/homer_bart_1/bart99.bmp', '/content/homer_bart_1/homer1.bmp', '/content/homer_bart_1/homer10.bmp', '/content/homer_bart_1/homer100.bmp', '/content/homer_bart_1/homer101.bmp', '/content/homer_bart_1/homer102.bmp', '/content/homer_bart_1/homer103.bmp', '/content/homer_bart_1/homer104.bmp', '/content/homer_bart_1/homer105.bmp', '/content/homer_bart_1/homer106.bmp', '/content/homer_bart_1/homer107.bmp', '/content/homer_bart_1/homer109.bmp', '/content/homer_bart_1/homer110.bmp', '/content/homer_bart_1/homer112.bmp', '/content/homer_bart_1/homer113.bmp', '/content/homer_bart_1/homer115.bmp', '/content/homer_bart_1/homer116.bmp', '/content/homer_bart_1/homer117.bmp', '/content/homer_bart_1/homer119.bmp', '/content/homer_bart_1/homer120.bmp', '/content/homer_bart_1/homer121.bmp', '/content/homer_bart_1/homer122.bmp', '/content/homer_bart_1/homer123.bmp', '/content/homer_bart_1/homer124.bmp', '/content/homer_bart_1/homer13.bmp', '/content/homer_bart_1/homer14.bmp', '/content/homer_bart_1/homer15.bmp', '/content/homer_bart_1/homer16.bmp', '/content/homer_bart_1/homer17.bmp', '/content/homer_bart_1/homer18.bmp', '/content/homer_bart_1/homer2.bmp', '/content/homer_bart_1/homer20.bmp', '/content/homer_bart_1/homer21.bmp', '/content/homer_bart_1/homer22.bmp', '/content/homer_bart_1/homer23.bmp', '/content/homer_bart_1/homer24.bmp', '/content/homer_bart_1/homer26.bmp', '/content/homer_bart_1/homer27.bmp', '/content/homer_bart_1/homer28.bmp', '/content/homer_bart_1/homer29.bmp', '/content/homer_bart_1/homer3.bmp', '/content/homer_bart_1/homer30.bmp', '/content/homer_bart_1/homer31.bmp', '/content/homer_bart_1/homer32.bmp', '/content/homer_bart_1/homer33.bmp', '/content/homer_bart_1/homer34.bmp', '/content/homer_bart_1/homer35.bmp', '/content/homer_bart_1/homer36.bmp', '/content/homer_bart_1/homer37.bmp', '/content/homer_bart_1/homer38.bmp', '/content/homer_bart_1/homer4.bmp', '/content/homer_bart_1/homer40.bmp', '/content/homer_bart_1/homer41.bmp', '/content/homer_bart_1/homer43.bmp', '/content/homer_bart_1/homer44.bmp', '/content/homer_bart_1/homer45.bmp', '/content/homer_bart_1/homer46.bmp', '/content/homer_bart_1/homer47.bmp', '/content/homer_bart_1/homer48.bmp', '/content/homer_bart_1/homer49.bmp', '/content/homer_bart_1/homer5.bmp', '/content/homer_bart_1/homer50.bmp', '/content/homer_bart_1/homer51.bmp', '/content/homer_bart_1/homer52.bmp', '/content/homer_bart_1/homer54.bmp', '/content/homer_bart_1/homer55.bmp', '/content/homer_bart_1/homer56.bmp', '/content/homer_bart_1/homer57.bmp', '/content/homer_bart_1/homer58.bmp', '/content/homer_bart_1/homer59.bmp', '/content/homer_bart_1/homer6.bmp', '/content/homer_bart_1/homer60.bmp', '/content/homer_bart_1/homer61.bmp', '/content/homer_bart_1/homer62.bmp', '/content/homer_bart_1/homer63.bmp', '/content/homer_bart_1/homer65.bmp', '/content/homer_bart_1/homer66.bmp', '/content/homer_bart_1/homer68.bmp', '/content/homer_bart_1/homer69.bmp', '/content/homer_bart_1/homer7.bmp', '/content/homer_bart_1/homer70.bmp', '/content/homer_bart_1/homer71.bmp', '/content/homer_bart_1/homer72.bmp', '/content/homer_bart_1/homer73.bmp', '/content/homer_bart_1/homer74.bmp', '/content/homer_bart_1/homer75.bmp', '/content/homer_bart_1/homer76.bmp', '/content/homer_bart_1/homer77.bmp', '/content/homer_bart_1/homer78.bmp', '/content/homer_bart_1/homer79.bmp', '/content/homer_bart_1/homer8.bmp', '/content/homer_bart_1/homer80.bmp', '/content/homer_bart_1/homer81.bmp', '/content/homer_bart_1/homer82.bmp', '/content/homer_bart_1/homer83.bmp', '/content/homer_bart_1/homer84.bmp', '/content/homer_bart_1/homer85.bmp', '/content/homer_bart_1/homer86.bmp', '/content/homer_bart_1/homer87.bmp', '/content/homer_bart_1/homer9.bmp', '/content/homer_bart_1/homer90.bmp', '/content/homer_bart_1/homer91.bmp', '/content/homer_bart_1/homer92.bmp', '/content/homer_bart_1/homer93.bmp', '/content/homer_bart_1/homer94.bmp', '/content/homer_bart_1/homer95.bmp', '/content/homer_bart_1/homer96.bmp', '/content/homer_bart_1/homer97.bmp', '/content/homer_bart_1/homer98.bmp', '/content/homer_bart_1/homer99.bmp']\n"
          ]
        }
      ]
    },
    {
      "cell_type": "code",
      "source": [
        "export = 'mouth,pants,shoes,tshirt,shorts,sneakers,class\\n'"
      ],
      "metadata": {
        "id": "AtqkSXMkVB5N"
      },
      "execution_count": 5,
      "outputs": []
    },
    {
      "cell_type": "code",
      "source": [
        "show_images = False\n",
        "features = []"
      ],
      "metadata": {
        "id": "pwoa1RHOVu77"
      },
      "execution_count": 6,
      "outputs": []
    },
    {
      "cell_type": "code",
      "source": [
        "for image_path in files:\n",
        "  try:\n",
        "    original_image = cv2.imread(image_path)\n",
        "    (H, W) = original_image.shape[:2]\n",
        "  except:\n",
        "    continue\n",
        "\n",
        "  image = original_image.copy()\n",
        "  image_features = []\n",
        "  mouth = pants = shoes = 0  #homer's feautures\n",
        "  tshirt = shorts = sneakers = 0  #bart's features\n",
        "\n",
        "  image_name = os.path.basename(os.path.normpath(image_path))\n",
        "\n",
        "  if image_name.startswith('b'):\n",
        "    class_name = 0\n",
        "  else:\n",
        "    class_name = 1"
      ],
      "metadata": {
        "id": "Zq5EwhhEVwct"
      },
      "execution_count": null,
      "outputs": []
    },
    {
      "cell_type": "code",
      "source": [
        "for height in range(0, H):\n",
        "    for width in range(0, W):\n",
        "      blue = image.item(height, width, 0)\n",
        "      green = image.item(height, width, 1)\n",
        "      red = image.item(height, width, 2)\n",
        "\n",
        "      # Homer - brown mouth\n",
        "      if (blue >= 95 and blue <= 140 and green >= 160 and green <= 185 and red >= 175 and red <= 200):\n",
        "        image[height, width] = [0, 255, 255]\n",
        "        mouth += 1\n",
        "\n",
        "      # Homer - blue pants\n",
        "      if (blue >= 150 and blue <= 180 and green >= 98 and green <= 120 and red >= 0 and red <= 90):\n",
        "        image[height, width] = [0, 255, 255]\n",
        "        pants += 1\n",
        "\n",
        "      # Homer - gray shoes\n",
        "      if height > (H / 2):\n",
        "        if (blue >= 25 and blue <= 45 and green >= 25 and green <= 45 and red >= 25 and red <= 45):\n",
        "          image[height, width] = [0, 255, 255]\n",
        "          shoes += 1\n",
        "\n",
        "      # Bart - orange t-shirt\n",
        "      if (blue >= 11 and blue <= 22 and green >= 85 and green <= 105 and red >= 240 and red <= 255):\n",
        "        image[height, width] = [0, 255, 128]\n",
        "        tshirt += 1\n",
        "\n",
        "      # Bart - blue shorts\n",
        "      if (blue >= 125 and blue <= 170 and green >= 0 and green <= 12 and red >= 0 and red <= 20):\n",
        "        image[height, width] = [0, 255, 128]\n",
        "        shorts += 1\n",
        "\n",
        "      # Bart - blue sneakers\n",
        "      if height > (H / 2):\n",
        "        if (blue >= 125 and blue <= 170 and green >= 0 and green <= 12 and red >= 0 and red <= 20):\n",
        "          image[height, width] = [0, 255, 128]\n",
        "          sneakers += 1"
      ],
      "metadata": {
        "id": "Iyint805Wg-x"
      },
      "execution_count": null,
      "outputs": []
    }
  ]
}