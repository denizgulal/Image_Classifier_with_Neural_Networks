{
  "nbformat": 4,
  "nbformat_minor": 0,
  "metadata": {
    "colab": {
      "provenance": [],
      "authorship_tag": "ABX9TyPyFtc1bZAV0K2nnz5MGuf1",
      "include_colab_link": true
    },
    "kernelspec": {
      "name": "python3",
      "display_name": "Python 3"
    },
    "language_info": {
      "name": "python"
    }
  },
  "cells": [
    {
      "cell_type": "markdown",
      "metadata": {
        "id": "view-in-github",
        "colab_type": "text"
      },
      "source": [
        "<a href=\"https://colab.research.google.com/github/denizgulal/Image_Classifier_with_Neural_Networks/blob/main/feature_extraction_bart.ipynb\" target=\"_parent\"><img src=\"https://colab.research.google.com/assets/colab-badge.svg\" alt=\"Open In Colab\"/></a>"
      ]
    },
    {
      "cell_type": "code",
      "execution_count": 43,
      "metadata": {
        "id": "TD8f8zjGUi78"
      },
      "outputs": [],
      "source": [
        "import cv2\n",
        "import numpy as np\n",
        "import os\n",
        "import zipfile\n",
        "from google.colab.patches import cv2_imshow\n",
        "import tensorflow as tf\n",
        "import pandas as pd\n",
        "import seaborn as sns\n",
        "import matplotlib.pyplot as plt"
      ]
    },
    {
      "cell_type": "code",
      "source": [
        "from google.colab import drive\n",
        "drive.mount('/content/drive')"
      ],
      "metadata": {
        "colab": {
          "base_uri": "https://localhost:8080/"
        },
        "id": "gMFLJ5O3U2uH",
        "outputId": "e4f4997a-0146-46af-89a8-3e66185063b9"
      },
      "execution_count": 44,
      "outputs": [
        {
          "output_type": "stream",
          "name": "stdout",
          "text": [
            "Drive already mounted at /content/drive; to attempt to forcibly remount, call drive.mount(\"/content/drive\", force_remount=True).\n"
          ]
        }
      ]
    },
    {
      "cell_type": "code",
      "source": [
        "path ='/content/drive/MyDrive/Computer Vision Masterclass/Datasets/homer_bart_1.zip'\n",
        "zip_object = zipfile.ZipFile(file = path, mode = 'r')\n",
        "zip_object.extractall('./')\n",
        "zip_object.close()"
      ],
      "metadata": {
        "id": "UmYrT4Z_U41b"
      },
      "execution_count": 45,
      "outputs": []
    },
    {
      "cell_type": "code",
      "source": [
        "directory = '/content/homer_bart_1'\n",
        "files = [os.path.join(directory, f) for f in sorted(os.listdir(directory))]\n",
        "print(files)"
      ],
      "metadata": {
        "colab": {
          "base_uri": "https://localhost:8080/"
        },
        "id": "_t8qqFY_U9Pi",
        "outputId": "fc2f1f01-ec3c-4f86-86f6-8387876ac7ee"
      },
      "execution_count": 46,
      "outputs": [
        {
          "output_type": "stream",
          "name": "stdout",
          "text": [
            "['/content/homer_bart_1/.DS_Store', '/content/homer_bart_1/bart1.bmp', '/content/homer_bart_1/bart10.bmp', '/content/homer_bart_1/bart100.bmp', '/content/homer_bart_1/bart101.bmp', '/content/homer_bart_1/bart102.bmp', '/content/homer_bart_1/bart103.bmp', '/content/homer_bart_1/bart104.bmp', '/content/homer_bart_1/bart105.bmp', '/content/homer_bart_1/bart106.bmp', '/content/homer_bart_1/bart108.bmp', '/content/homer_bart_1/bart109.bmp', '/content/homer_bart_1/bart11.bmp', '/content/homer_bart_1/bart110.bmp', '/content/homer_bart_1/bart111.bmp', '/content/homer_bart_1/bart112.bmp', '/content/homer_bart_1/bart113.bmp', '/content/homer_bart_1/bart114.bmp', '/content/homer_bart_1/bart115.bmp', '/content/homer_bart_1/bart116.bmp', '/content/homer_bart_1/bart117.bmp', '/content/homer_bart_1/bart118.bmp', '/content/homer_bart_1/bart119.bmp', '/content/homer_bart_1/bart12.bmp', '/content/homer_bart_1/bart120.bmp', '/content/homer_bart_1/bart121.bmp', '/content/homer_bart_1/bart122.bmp', '/content/homer_bart_1/bart123.bmp', '/content/homer_bart_1/bart124.bmp', '/content/homer_bart_1/bart125.bmp', '/content/homer_bart_1/bart126.bmp', '/content/homer_bart_1/bart127.bmp', '/content/homer_bart_1/bart128.bmp', '/content/homer_bart_1/bart13.bmp', '/content/homer_bart_1/bart130.bmp', '/content/homer_bart_1/bart131.bmp', '/content/homer_bart_1/bart132.bmp', '/content/homer_bart_1/bart133.bmp', '/content/homer_bart_1/bart134.bmp', '/content/homer_bart_1/bart135.bmp', '/content/homer_bart_1/bart136.bmp', '/content/homer_bart_1/bart137.bmp', '/content/homer_bart_1/bart138.bmp', '/content/homer_bart_1/bart139.bmp', '/content/homer_bart_1/bart14.bmp', '/content/homer_bart_1/bart141.bmp', '/content/homer_bart_1/bart142.bmp', '/content/homer_bart_1/bart143.bmp', '/content/homer_bart_1/bart144.bmp', '/content/homer_bart_1/bart145.bmp', '/content/homer_bart_1/bart146.bmp', '/content/homer_bart_1/bart147.bmp', '/content/homer_bart_1/bart148.bmp', '/content/homer_bart_1/bart149.bmp', '/content/homer_bart_1/bart15.bmp', '/content/homer_bart_1/bart150.bmp', '/content/homer_bart_1/bart151.bmp', '/content/homer_bart_1/bart153.bmp', '/content/homer_bart_1/bart154.bmp', '/content/homer_bart_1/bart155.bmp', '/content/homer_bart_1/bart156.bmp', '/content/homer_bart_1/bart157.bmp', '/content/homer_bart_1/bart158.bmp', '/content/homer_bart_1/bart159.bmp', '/content/homer_bart_1/bart16.bmp', '/content/homer_bart_1/bart160.bmp', '/content/homer_bart_1/bart161.bmp', '/content/homer_bart_1/bart162.bmp', '/content/homer_bart_1/bart164.bmp', '/content/homer_bart_1/bart165.bmp', '/content/homer_bart_1/bart166.bmp', '/content/homer_bart_1/bart167.bmp', '/content/homer_bart_1/bart168.bmp', '/content/homer_bart_1/bart169.bmp', '/content/homer_bart_1/bart17.bmp', '/content/homer_bart_1/bart18.bmp', '/content/homer_bart_1/bart19.bmp', '/content/homer_bart_1/bart2.bmp', '/content/homer_bart_1/bart20.bmp', '/content/homer_bart_1/bart21.bmp', '/content/homer_bart_1/bart22.bmp', '/content/homer_bart_1/bart23.bmp', '/content/homer_bart_1/bart24.bmp', '/content/homer_bart_1/bart25.bmp', '/content/homer_bart_1/bart26.bmp', '/content/homer_bart_1/bart27.bmp', '/content/homer_bart_1/bart28.bmp', '/content/homer_bart_1/bart29.bmp', '/content/homer_bart_1/bart3.bmp', '/content/homer_bart_1/bart30.bmp', '/content/homer_bart_1/bart31.bmp', '/content/homer_bart_1/bart32.bmp', '/content/homer_bart_1/bart34.bmp', '/content/homer_bart_1/bart35.bmp', '/content/homer_bart_1/bart36.bmp', '/content/homer_bart_1/bart37.bmp', '/content/homer_bart_1/bart38.bmp', '/content/homer_bart_1/bart39.bmp', '/content/homer_bart_1/bart4.bmp', '/content/homer_bart_1/bart40.bmp', '/content/homer_bart_1/bart42.bmp', '/content/homer_bart_1/bart43.bmp', '/content/homer_bart_1/bart44.bmp', '/content/homer_bart_1/bart45.bmp', '/content/homer_bart_1/bart46.bmp', '/content/homer_bart_1/bart47.bmp', '/content/homer_bart_1/bart48.bmp', '/content/homer_bart_1/bart49.bmp', '/content/homer_bart_1/bart5.bmp', '/content/homer_bart_1/bart50.bmp', '/content/homer_bart_1/bart51.bmp', '/content/homer_bart_1/bart52.bmp', '/content/homer_bart_1/bart53.bmp', '/content/homer_bart_1/bart54.bmp', '/content/homer_bart_1/bart55.bmp', '/content/homer_bart_1/bart56.bmp', '/content/homer_bart_1/bart57.bmp', '/content/homer_bart_1/bart58.bmp', '/content/homer_bart_1/bart59.bmp', '/content/homer_bart_1/bart6.bmp', '/content/homer_bart_1/bart60.bmp', '/content/homer_bart_1/bart61.bmp', '/content/homer_bart_1/bart62.bmp', '/content/homer_bart_1/bart63.bmp', '/content/homer_bart_1/bart64.bmp', '/content/homer_bart_1/bart65.bmp', '/content/homer_bart_1/bart66.bmp', '/content/homer_bart_1/bart67.bmp', '/content/homer_bart_1/bart68.bmp', '/content/homer_bart_1/bart69.bmp', '/content/homer_bart_1/bart7.bmp', '/content/homer_bart_1/bart70.bmp', '/content/homer_bart_1/bart71.bmp', '/content/homer_bart_1/bart72.bmp', '/content/homer_bart_1/bart73.bmp', '/content/homer_bart_1/bart74.bmp', '/content/homer_bart_1/bart75.bmp', '/content/homer_bart_1/bart76.bmp', '/content/homer_bart_1/bart77.bmp', '/content/homer_bart_1/bart79.bmp', '/content/homer_bart_1/bart8.bmp', '/content/homer_bart_1/bart80.bmp', '/content/homer_bart_1/bart81.bmp', '/content/homer_bart_1/bart82.bmp', '/content/homer_bart_1/bart83.bmp', '/content/homer_bart_1/bart84.bmp', '/content/homer_bart_1/bart85.bmp', '/content/homer_bart_1/bart86.bmp', '/content/homer_bart_1/bart87.bmp', '/content/homer_bart_1/bart89.bmp', '/content/homer_bart_1/bart9.bmp', '/content/homer_bart_1/bart90.bmp', '/content/homer_bart_1/bart91.bmp', '/content/homer_bart_1/bart92.bmp', '/content/homer_bart_1/bart93.bmp', '/content/homer_bart_1/bart94.bmp', '/content/homer_bart_1/bart95.bmp', '/content/homer_bart_1/bart96.bmp', '/content/homer_bart_1/bart97.bmp', '/content/homer_bart_1/bart98.bmp', '/content/homer_bart_1/bart99.bmp', '/content/homer_bart_1/homer1.bmp', '/content/homer_bart_1/homer10.bmp', '/content/homer_bart_1/homer100.bmp', '/content/homer_bart_1/homer101.bmp', '/content/homer_bart_1/homer102.bmp', '/content/homer_bart_1/homer103.bmp', '/content/homer_bart_1/homer104.bmp', '/content/homer_bart_1/homer105.bmp', '/content/homer_bart_1/homer106.bmp', '/content/homer_bart_1/homer107.bmp', '/content/homer_bart_1/homer109.bmp', '/content/homer_bart_1/homer110.bmp', '/content/homer_bart_1/homer112.bmp', '/content/homer_bart_1/homer113.bmp', '/content/homer_bart_1/homer115.bmp', '/content/homer_bart_1/homer116.bmp', '/content/homer_bart_1/homer117.bmp', '/content/homer_bart_1/homer119.bmp', '/content/homer_bart_1/homer120.bmp', '/content/homer_bart_1/homer121.bmp', '/content/homer_bart_1/homer122.bmp', '/content/homer_bart_1/homer123.bmp', '/content/homer_bart_1/homer124.bmp', '/content/homer_bart_1/homer13.bmp', '/content/homer_bart_1/homer14.bmp', '/content/homer_bart_1/homer15.bmp', '/content/homer_bart_1/homer16.bmp', '/content/homer_bart_1/homer17.bmp', '/content/homer_bart_1/homer18.bmp', '/content/homer_bart_1/homer2.bmp', '/content/homer_bart_1/homer20.bmp', '/content/homer_bart_1/homer21.bmp', '/content/homer_bart_1/homer22.bmp', '/content/homer_bart_1/homer23.bmp', '/content/homer_bart_1/homer24.bmp', '/content/homer_bart_1/homer26.bmp', '/content/homer_bart_1/homer27.bmp', '/content/homer_bart_1/homer28.bmp', '/content/homer_bart_1/homer29.bmp', '/content/homer_bart_1/homer3.bmp', '/content/homer_bart_1/homer30.bmp', '/content/homer_bart_1/homer31.bmp', '/content/homer_bart_1/homer32.bmp', '/content/homer_bart_1/homer33.bmp', '/content/homer_bart_1/homer34.bmp', '/content/homer_bart_1/homer35.bmp', '/content/homer_bart_1/homer36.bmp', '/content/homer_bart_1/homer37.bmp', '/content/homer_bart_1/homer38.bmp', '/content/homer_bart_1/homer4.bmp', '/content/homer_bart_1/homer40.bmp', '/content/homer_bart_1/homer41.bmp', '/content/homer_bart_1/homer43.bmp', '/content/homer_bart_1/homer44.bmp', '/content/homer_bart_1/homer45.bmp', '/content/homer_bart_1/homer46.bmp', '/content/homer_bart_1/homer47.bmp', '/content/homer_bart_1/homer48.bmp', '/content/homer_bart_1/homer49.bmp', '/content/homer_bart_1/homer5.bmp', '/content/homer_bart_1/homer50.bmp', '/content/homer_bart_1/homer51.bmp', '/content/homer_bart_1/homer52.bmp', '/content/homer_bart_1/homer54.bmp', '/content/homer_bart_1/homer55.bmp', '/content/homer_bart_1/homer56.bmp', '/content/homer_bart_1/homer57.bmp', '/content/homer_bart_1/homer58.bmp', '/content/homer_bart_1/homer59.bmp', '/content/homer_bart_1/homer6.bmp', '/content/homer_bart_1/homer60.bmp', '/content/homer_bart_1/homer61.bmp', '/content/homer_bart_1/homer62.bmp', '/content/homer_bart_1/homer63.bmp', '/content/homer_bart_1/homer65.bmp', '/content/homer_bart_1/homer66.bmp', '/content/homer_bart_1/homer68.bmp', '/content/homer_bart_1/homer69.bmp', '/content/homer_bart_1/homer7.bmp', '/content/homer_bart_1/homer70.bmp', '/content/homer_bart_1/homer71.bmp', '/content/homer_bart_1/homer72.bmp', '/content/homer_bart_1/homer73.bmp', '/content/homer_bart_1/homer74.bmp', '/content/homer_bart_1/homer75.bmp', '/content/homer_bart_1/homer76.bmp', '/content/homer_bart_1/homer77.bmp', '/content/homer_bart_1/homer78.bmp', '/content/homer_bart_1/homer79.bmp', '/content/homer_bart_1/homer8.bmp', '/content/homer_bart_1/homer80.bmp', '/content/homer_bart_1/homer81.bmp', '/content/homer_bart_1/homer82.bmp', '/content/homer_bart_1/homer83.bmp', '/content/homer_bart_1/homer84.bmp', '/content/homer_bart_1/homer85.bmp', '/content/homer_bart_1/homer86.bmp', '/content/homer_bart_1/homer87.bmp', '/content/homer_bart_1/homer9.bmp', '/content/homer_bart_1/homer90.bmp', '/content/homer_bart_1/homer91.bmp', '/content/homer_bart_1/homer92.bmp', '/content/homer_bart_1/homer93.bmp', '/content/homer_bart_1/homer94.bmp', '/content/homer_bart_1/homer95.bmp', '/content/homer_bart_1/homer96.bmp', '/content/homer_bart_1/homer97.bmp', '/content/homer_bart_1/homer98.bmp', '/content/homer_bart_1/homer99.bmp']\n"
          ]
        }
      ]
    },
    {
      "cell_type": "code",
      "source": [
        "export = 'mouth,pants,shoes,tshirt,shorts,sneakers,class\\n'"
      ],
      "metadata": {
        "id": "AtqkSXMkVB5N"
      },
      "execution_count": 47,
      "outputs": []
    },
    {
      "cell_type": "code",
      "source": [
        "show_images = False\n",
        "features = []"
      ],
      "metadata": {
        "id": "pwoa1RHOVu77"
      },
      "execution_count": 48,
      "outputs": []
    },
    {
      "cell_type": "code",
      "source": [
        "for image_path in files:\n",
        "  try:\n",
        "    original_image = cv2.imread(image_path)\n",
        "    (H, W) = original_image.shape[:2]\n",
        "  except:\n",
        "    continue\n",
        "\n",
        "  image = original_image.copy()\n",
        "  image_features = []\n",
        "  mouth = pants = shoes = 0  #homer's feautures\n",
        "  tshirt = shorts = sneakers = 0  #bart's features\n",
        "\n",
        "  image_name = os.path.basename(os.path.normpath(image_path))\n",
        "\n",
        "  if image_name.startswith('b'):\n",
        "    class_name = 0\n",
        "  else:\n",
        "    class_name = 1"
      ],
      "metadata": {
        "id": "Zq5EwhhEVwct"
      },
      "execution_count": 49,
      "outputs": []
    },
    {
      "cell_type": "code",
      "metadata": {
        "id": "Ob_iiVISuebX"
      },
      "source": [
        "for image_path in files:\n",
        "  #print(image_path)\n",
        "  try:\n",
        "    original_image = cv2.imread(image_path)\n",
        "    (H, W) = original_image.shape[:2]\n",
        "  except:\n",
        "    continue\n",
        "\n",
        "  image = original_image.copy()\n",
        "  image_features = []\n",
        "  mouth = pants = shoes = 0\n",
        "  tshirt = shorts = sneakers = 0\n",
        "\n",
        "  image_name = os.path.basename(os.path.normpath(image_path))\n",
        "\n",
        "  if image_name.startswith('b'):\n",
        "    class_name = 0\n",
        "  else:\n",
        "    class_name = 1\n",
        "\n",
        "  for height in range(0, H):\n",
        "    for width in range(0, W):\n",
        "      blue = image.item(height, width, 0)\n",
        "      green = image.item(height, width, 1)\n",
        "      red = image.item(height, width, 2)\n",
        "\n",
        "      # Homer - brown mouth\n",
        "      if (blue >= 95 and blue <= 140 and green >= 160 and green <= 185 and red >= 175 and red <= 200):\n",
        "        image[height, width] = [0, 255, 255]\n",
        "        mouth += 1\n",
        "\n",
        "      # Homer - blue pants\n",
        "      if (blue >= 150 and blue <= 180 and green >= 98 and green <= 120 and red >= 0 and red <= 90):\n",
        "        image[height, width] = [0, 255, 255]\n",
        "        pants += 1\n",
        "\n",
        "      # Homer - gray shoes\n",
        "      if height > (H / 2):\n",
        "        if (blue >= 25 and blue <= 45 and green >= 25 and green <= 45 and red >= 25 and red <= 45):\n",
        "          image[height, width] = [0, 255, 255]\n",
        "          shoes += 1\n",
        "\n",
        "      # Bart - orange t-shirt\n",
        "      if (blue >= 11 and blue <= 22 and green >= 85 and green <= 105 and red >= 240 and red <= 255):\n",
        "        image[height, width] = [0, 255, 128]\n",
        "        tshirt += 1\n",
        "\n",
        "      # Bart - blue shorts\n",
        "      if (blue >= 125 and blue <= 170 and green >= 0 and green <= 12 and red >= 0 and red <= 20):\n",
        "        image[height, width] = [0, 255, 128]\n",
        "        shorts += 1\n",
        "\n",
        "      # Bart - blue sneakers\n",
        "      if height > (H / 2):\n",
        "        if (blue >= 125 and blue <= 170 and green >= 0 and green <= 12 and red >= 0 and red <= 20):\n",
        "          image[height, width] = [0, 255, 128]\n",
        "          sneakers += 1\n",
        "\n",
        "  mouth = round((mouth / (H * W)) * 100, 9)\n",
        "  pants = round((pants / (H * W)) * 100, 9)\n",
        "  shoes = round((shoes / (H * W)) * 100, 9)\n",
        "\n",
        "  tshirt = round((tshirt / (H * W)) * 100, 9)\n",
        "  shorts = round((shorts / (H * W)) * 100, 9)\n",
        "  sneakers = round((sneakers / (H * W)) * 100, 9)\n",
        "\n",
        "  image_features.append(mouth)\n",
        "  image_features.append(pants)\n",
        "  image_features.append(shoes)\n",
        "  image_features.append(tshirt)\n",
        "  image_features.append(shorts)\n",
        "  image_features.append(sneakers)\n",
        "  image_features.append(class_name)\n",
        "\n",
        "  features.append(image_features)\n",
        "\n",
        "  #print('Homer mouth: %s - Homer pants: %s - Homer shoes: %s' % (image_features[0], image_features[1], image_features[2]))\n",
        "  #print('Bart t-shirt: %s - Bart shorts: %s - Bart sneakers: %s' % (image_features[3], image_features[4], image_features[5]))\n",
        "\n",
        "  f = (\",\".join([str(item) for item in image_features]))\n",
        "  export += f + '\\n'\n",
        "\n",
        "  if show_images == True:\n",
        "    image = cv2.cvtColor(image, cv2.COLOR_BGR2RGB)\n",
        "    original_image = cv2.cvtColor(original_image, cv2.COLOR_BGR2RGB)\n",
        "    fig, im = plt.subplots(1, 2)\n",
        "    im[0].axis('off')\n",
        "    im[0].imshow(original_image)\n",
        "    im[1].axis('off')\n",
        "    im[1].imshow(image)\n",
        "    plt.show()"
      ],
      "execution_count": 50,
      "outputs": []
    },
    {
      "cell_type": "code",
      "source": [
        "export"
      ],
      "metadata": {
        "colab": {
          "base_uri": "https://localhost:8080/",
          "height": 178
        },
        "id": "LwO3X7CDX00h",
        "outputId": "5724a7ca-77bf-4469-f10d-e21e679c9921"
      },
      "execution_count": 51,
      "outputs": [
        {
          "output_type": "execute_result",
          "data": {
            "text/plain": [
              "'mouth,pants,shoes,tshirt,shorts,sneakers,class\\n0.0,0.0,0.114799225,6.886101887,3.495204355,3.495204355,0\\n0.0,0.0,0.11007847,5.004901113,3.183888705,3.183888705,0\\n0.0,0.0,0.182518631,5.264620437,5.029682961,5.029682961,0\\n0.0,0.480168257,0.080028043,0.0,0.0,0.0,0\\n0.0,0.0,0.029707562,8.978929368,3.459119497,3.459119497,0\\n0.0,0.0,0.053304904,6.75432362,0.948827292,0.948827292,0\\n0.249585206,0.0,0.019853369,9.693407263,4.104683977,4.104683977,0\\n0.0,0.0,0.181208054,0.0,0.0,0.0,0\\n0.0,0.0,0.148868778,0.0,0.0,0.0,0\\n0.0,0.0,0.114762211,9.594752524,7.522715548,7.522715548,0\\n0.0,0.0,0.138655462,0.0,0.0,0.0,0\\n0.0,0.0,0.02400947,19.545383481,0.0,0.0,0\\n0.00307645,0.0,0.0,6.495154592,5.599138594,5.599138594,0\\n0.001317263,0.0,0.087817515,0.0,0.0,0.0,0\\n0.0,0.0,0.032184591,8.395721925,0.0,0.0,0\\n0.02105732,0.0,0.008503918,8.915750471,0.0,0.0,0\\n0.0,0.0,0.081055114,11.095816228,4.525111363,4.525111363,0\\n0.0,0.0,0.08757526,10.443349754,3.183296307,3.183296307,0\\n0.0,0.0,0.043806812,9.497408097,0.0,0.0,0\\n0.0,0.0,0.141247989,4.750581083,3.600482746,3.600482746,0\\n0.0,0.010463297,0.391691233,7.430305346,0.0,0.0,0\\n0.0,0.0,0.145441759,12.530766526,2.373417722,2.373417722,0\\n0.0,0.0,0.298828743,11.88730611,6.866729978,6.866729978,0\\n0.0,0.0,0.110318564,2.206749078,3.37340567,0.0,0\\n0.0,0.0,0.083622139,0.0,0.0,0.0,0\\n0.0,0.0,0.069784112,9.781371226,6.301652893,6.301652893,0\\n0.0,0.0,0.088388486,4.322113293,5.937642899,5.937642899,0\\n0.0,0.0,0.144211187,0.0,0.0,0.0,0\\n0.07,0.0,0.344285714,0.0,0.0,0.0,0\\n0.0,0.0,0.07980941,11.305241215,7.723942823,7.723942823,0\\n0.0,0.0,0.379403794,0.0,0.0,0.0,0\\n0.0,0.0,0.090175198,11.35992786,0.0,0.0,0\\n0.0,0.0,0.084393721,5.738773012,3.398924308,3.398924308,0\\n0.0,0.0,0.162677013,5.02834647,0.0,0.0,0\\n0.0,0.0,0.050130084,0.0,2.312329463,1.435370265,0\\n0.000832432,0.0,0.198951136,16.896695247,1.144593357,1.144593357,0\\n0.0,0.0,0.108054523,13.608921933,0.269640644,0.269640644,0\\n0.057218819,0.0,0.082649405,7.449427812,0.0,0.0,0\\n0.0,0.0,0.065466448,7.435477779,1.739896764,1.739896764,0\\n0.0,0.0,0.076230076,3.805959806,2.272349272,2.272349272,0\\n0.0,0.0,0.05304784,4.813762626,5.155285494,5.155285494,0\\n0.0,0.0,0.057656907,10.597756243,0.0,0.0,0\\n0.0,0.0,4.180478037,7.972817519,0.0,0.0,0\\n0.0,0.0,0.166613773,5.126150428,7.112821327,7.112821327,0\\n0.0,0.0,0.108311229,0.0,18.927203065,17.73135868,0\\n0.0,0.0,0.13699873,3.036351539,1.797919313,1.797919313,0\\n0.0,0.0,0.086580087,8.149012446,2.357954545,2.357954545,0\\n0.0,0.0,0.151135698,13.635152613,5.732015094,5.732015094,0\\n0.0,0.0,0.183020488,9.865659541,3.991215017,3.991215017,0\\n0.0,0.0,0.126150813,2.49238361,6.490779573,6.03685943,0\\n0.0,0.0,0.152807573,4.91155038,2.840773658,2.840773658,0\\n0.0,0.0,0.0,1.187012385,1.807232793,1.807232793,0\\n0.0,0.0,0.02433848,8.855312603,0.0,0.0,0\\n2.452787678,0.0,0.068104543,4.658248331,3.879910696,3.879910696,0\\n0.0,0.0,0.0,0.0,0.0,0.0,0\\n0.002290583,0.0,0.0,6.528926251,0.0,0.0,0\\n0.0,0.0,0.056179775,12.13282504,0.0,0.0,0\\n0.000888889,0.0,0.094222222,5.550222222,0.0,0.0,0\\n0.0,0.0,0.0,2.704001299,2.038146254,0.849606363,0\\n0.0,0.0,0.078947368,0.484892788,1.314814815,1.314814815,0\\n0.129449838,0.0,0.220989367,3.006010171,1.178455848,1.178455848,0\\n0.0,0.0,0.0,2.278061846,3.270189108,3.270189108,0\\n0.0,0.0,0.048163557,3.585693763,4.931366932,4.931366932,0\\n0.0,0.0,0.580333855,0.721749478,0.737235915,0.0,0\\n0.0,0.0,0.156095181,4.259996037,4.505419125,4.505419125,0\\n0.0,0.0,0.113855066,9.469978468,5.73372206,5.73372206,0\\n0.0,0.0,0.112589904,5.532449419,7.887174834,7.887174834,0\\n0.0,0.0,0.101010101,10.84387737,0.0,0.0,0\\n0.0,0.0,0.130730051,2.291680815,2.954499151,2.095755518,0\\n0.0,0.0,0.084417626,6.410571154,4.413835877,4.413835877,0\\n0.072235674,0.0,0.0,3.773204197,1.920500404,1.920500404,0\\n0.0,0.0,0.095862315,6.44172463,5.603486713,5.603486713,0\\n0.0,0.079648273,0.713011342,3.013253473,1.752262011,1.752262011,0\\n0.0,0.0,0.077600637,17.164367088,0.0,0.0,0\\n0.0,0.0,0.138044446,0.0,0.0,0.0,0\\n0.256359764,0.0,1.935279188,2.087344653,0.331116168,0.0189626,0\\n0.0,0.0,0.306571323,3.656376567,4.276107978,4.276107978,0\\n0.0,0.0,0.182729644,0.0,0.0,0.0,0\\n0.0,0.035811365,0.081114898,8.256461147,0.0,0.0,0\\n0.0,0.0,0.063650201,0.0,0.0,0.0,0\\n0.0,0.0,0.15935811,8.37577311,7.56728144,7.56728144,0\\n0.0,0.0,0.127103473,6.08575009,0.998925886,0.957303974,0\\n0.0,0.21020082,0.12724967,2.054235286,1.480091724,1.480091724,0\\n0.0,0.0,0.067023482,6.311297555,0.0,0.0,0\\n0.0,0.0,0.089739311,8.347980866,8.240442022,8.240442022,0\\n0.0,0.0,0.06409324,0.0,0.0,0.0,0\\n0.0,0.0,0.059352518,9.928507194,0.0,0.0,0\\n0.620192308,0.0,0.151442308,5.380608974,4.139423077,4.139423077,0\\n0.0,0.020169769,0.169082748,0.0,2.887281029,2.887281029,0\\n0.0,0.022174372,0.075276158,0.0,0.0,0.0,0\\n0.0,0.0,0.088223514,5.356195672,4.325658429,4.325658429,0\\n0.0,0.0,0.036128255,0.0,14.04862261,7.565858799,0\\n4.469270958,0.0,0.048356864,0.0,0.0,0.0,0\\n0.0,0.0,0.515769828,3.451480154,3.807950898,3.313264772,0\\n0.003738178,0.0,0.20746888,0.0,3.104556839,3.104556839,0\\n0.0,0.0,0.119900917,1.333403605,1.42563508,1.42563508,0\\n0.016800478,0.0,0.029723923,3.016978176,2.22412484,2.22412484,0\\n0.0,0.0,0.038138825,9.655055513,0.0,0.0,0\\n0.002855457,0.004283185,0.047115037,10.154480212,0.0,0.0,0\\n0.0,0.0,0.0,4.442616207,1.551764881,1.551764881,0\\n0.0,0.0,0.0,8.667226891,3.921848739,3.921848739,0\\n0.0,0.0,0.0,8.113564866,5.822234048,5.822234048,0\\n0.0,0.0,0.11212159,6.242393461,0.0,0.0,0\\n0.0,0.0,0.594795539,0.0,14.857215275,6.850287259,0\\n0.001554726,0.047419154,0.359919154,0.0,1.773165423,1.773165423,0\\n0.0,0.0,0.12787018,0.000919929,0.025758022,0.022998234,0\\n4.469270958,0.0,0.048356864,0.0,0.0,0.0,0\\n0.0,0.031103271,0.095440175,0.0,0.0,0.0,0\\n0.0,0.0,0.096296296,0.0,0.0,0.0,0\\n0.0,0.0,0.030959752,2.493227554,0.86880805,0.86880805,0\\n0.0,0.0,0.315630575,0.0,0.091487123,0.091487123,0\\n0.082892416,0.0,0.0,8.386243386,5.733686067,5.733686067,0\\n0.028748341,0.0,0.314020345,0.0,0.0,0.0,0\\n0.004464286,0.080357143,0.046875,0.064732143,0.0,0.0,0\\n0.0,0.0,0.162836426,0.0,0.0,0.0,0\\n0.0,0.0,0.047342881,0.0,0.0,0.0,0\\n0.002855457,0.004283185,0.047115037,10.154480212,0.0,0.0,0\\n0.0,0.0,0.0,11.901625849,0.436989778,0.436989778,0\\n0.0,0.0,0.06820873,0.0,7.009674726,7.009674726,0\\n0.0,0.0,0.0,2.423072216,3.600614606,1.095957467,0\\n0.0,0.0,0.048370171,0.0,0.0,0.0,0\\n0.046402056,0.0,0.0,0.0,0.0,0.0,0\\n0.0,0.0,0.125109894,0.0,0.0,0.0,0\\n0.0,0.0,0.495459566,12.964780955,0.997054853,0.026076819,0\\n0.024496995,0.0,0.169029266,3.695779984,0.013065064,0.004082833,0\\n0.126262626,0.0,0.089031339,0.178062678,0.0,0.0,0\\n0.0,0.0,0.342702852,4.158589495,1.07887935,1.07887935,0\\n0.0,0.0,0.009876543,0.540740741,3.417283951,3.417283951,0\\n0.0,0.0,0.093454492,7.286125887,5.362736407,5.362736407,0\\n0.001013274,0.061809707,0.194548586,4.348971527,4.550613031,4.550613031,0\\n0.0,0.0,0.069741492,12.124170851,0.0,0.0,0\\n0.0,0.0,0.173299101,8.090500642,0.118741977,0.118741977,0\\n0.0,0.0,0.562080987,2.018771789,0.0,0.0,0\\n0.0,0.0,0.0,8.474266319,5.609766802,5.609766802,0\\n0.0,0.076864807,0.0,0.0,0.0,0.0,0\\n0.0,0.0,0.366119137,3.460815357,0.0,0.0,0\\n0.0,0.0,0.235437937,10.429447853,0.0,0.0,0\\n0.0,0.0,0.694371751,0.0,0.0,0.0,0\\n0.039284559,0.0,0.233396497,8.228959652,6.133012895,6.133012895,0\\n0.0,0.0,0.101015515,5.829625995,2.764938958,2.764938958,0\\n0.0,0.0,0.1,0.0,0.0,0.0,0\\n0.0,0.0,0.140763817,1.193031037,0.0,0.0,0\\n0.0,0.0,0.137115161,4.095916838,0.0,0.0,0\\n0.0,0.0,0.076660132,9.58125974,6.173025687,6.173025687,0\\n0.0,0.0,0.101961416,2.589283319,0.0,0.0,0\\n0.0,0.0,0.32228575,4.400440044,0.0,0.0,0\\n0.0,0.0,0.49909064,6.990894315,4.090005498,4.090005498,0\\n0.0,0.0,0.122647849,0.0,0.0,0.0,0\\n0.0,0.0,0.145933977,0.0,0.0,0.0,0\\n0.0,0.0,0.179773057,7.88857369,5.175484892,5.175484892,0\\n0.0,0.0,0.024805103,0.0,0.0,0.0,0\\n0.0,0.0,0.159848485,0.0,0.0,0.0,0\\n0.002906977,0.0,0.149418605,6.029651163,0.0,0.0,0\\n0.0,0.0,0.701011074,3.420959718,0.0,0.0,0\\n0.0,0.0,0.3986195,0.0,0.0,0.0,0\\n0.006931208,0.0,0.072777682,0.0,0.0,0.0,0\\n0.001619433,0.0,0.136842105,9.861538462,8.660728745,8.660728745,0\\n0.0,0.0,0.058479532,4.980506823,0.072124756,0.0,0\\n0.0,0.0,0.167883747,9.668452534,1.034365711,1.034365711,0\\n0.0,0.0,0.041262818,10.734478157,5.981352718,5.981352718,0\\n0.979401078,16.958948664,2.404184248,2.48769339,0.0,0.0,1\\n0.058665773,15.566543748,0.64867583,0.0,0.0,0.0,1\\n1.829063147,14.074792961,2.1875,0.0,0.0,0.0,1\\n2.804717308,0.152271939,0.107180021,0.0,0.0,0.0,1\\n2.510348847,0.0,0.133630737,0.0,0.0,0.0,1\\n0.0,0.0,0.222503718,0.0,0.0,0.0,1\\n6.507196996,0.0,0.175231208,0.0,0.0,0.0,1\\n4.677915738,0.0,0.293961583,0.0,0.0,0.0,1\\n3.118380316,0.0,0.300431807,0.0,0.0,0.0,1\\n4.06671025,0.0,0.150645216,0.0,0.0,0.0,1\\n0.0,0.0,1.19478171,0.0,0.0,0.0,1\\n3.195100354,0.0,0.380755608,0.0,0.0,0.0,1\\n0.355610904,7.673539043,0.158664268,0.275356303,0.0,0.0,1\\n0.663501119,4.680165379,0.034754821,0.0,0.0,0.0,1\\n0.501514993,5.802685195,2.626423571,0.0,0.0,0.0,1\\n1.448672089,3.566102811,0.060380396,0.0,0.0,0.0,1\\n0.858062038,0.0,0.229520791,0.0,0.0,0.0,1\\n2.046468542,4.588248639,0.060496068,0.0,0.0,0.0,1\\n5.3241237,0.0,0.083744238,0.0,0.0,0.0,1\\n3.059849386,21.512485137,4.97238737,0.0,0.0,0.0,1\\n1.87017211,19.164520938,1.432443421,0.0,0.0,0.0,1\\n1.181676162,6.996385642,0.0,0.0,0.0,0.0,1\\n1.657903494,0.0,0.071214642,0.0,0.0,0.0,1\\n1.375206612,14.950413223,1.574380165,0.0,0.0,0.0,1\\n2.107477925,32.308912804,0.172461369,0.0,0.0,0.0,1\\n0.480936756,0.0,0.095098438,0.0,0.0,0.0,1\\n1.405737574,0.084906762,0.102418781,0.0,0.0,0.0,1\\n1.429483853,0.0,0.112570356,0.0,0.0,0.0,1\\n1.623553703,13.843546691,1.437531653,0.0,0.0,0.0,1\\n4.966005609,0.0,0.10440414,0.0,0.0,0.0,1\\n1.365418968,12.872923639,1.497854342,0.0,0.0,0.0,1\\n1.475956065,10.607126113,0.0,0.0,0.0,0.0,1\\n2.580283794,13.434466019,1.690627334,0.0,0.0,0.0,1\\n1.208582988,13.390433758,1.592026425,0.0,0.0,0.0,1\\n0.308702684,9.513506425,0.713021243,0.0,0.0,0.0,1\\n2.111849548,0.273614253,0.134332579,0.0,0.0,0.0,1\\n0.312468394,0.187906888,0.0,0.0,0.0,0.0,1\\n1.699590092,3.907748997,0.0,0.0,0.0,0.0,1\\n1.261645963,0.046760305,0.044995765,0.0,0.0,0.0,1\\n4.183953033,0.0,0.129158513,0.0,0.0,0.0,1\\n0.307761177,16.612575308,0.0,0.0,0.0,0.0,1\\n7.688952498,0.0,0.069515437,0.0,0.0,0.0,1\\n0.0,0.063628651,0.0,0.0,0.0,0.0,1\\n0.0,0.039908211,0.633542851,0.0,0.0,0.0,1\\n0.0,0.024797844,0.201617251,0.0,0.0,0.0,1\\n0.092525727,0.178281278,0.146687128,0.0,0.0,0.0,1\\n0.028179839,11.469194313,0.174202639,0.0,0.0,0.0,1\\n0.491803279,0.0,0.195081967,0.0,0.0,0.0,1\\n0.191131498,0.0,0.076452599,0.0,0.0,0.0,1\\n1.085376162,8.202874049,0.22541561,0.0,0.0,0.0,1\\n0.138848864,7.372088758,0.192554557,0.0,0.0,0.0,1\\n0.078528726,8.650825818,0.196321816,0.525635829,0.0,0.0,1\\n0.070499893,9.101044382,0.226255472,0.0,0.0,0.0,1\\n0.018296095,0.0,0.128072668,0.0,0.0,0.0,1\\n0.072990481,0.0,0.0304127,0.0,0.0,0.0,1\\n0.039355119,0.0,0.176419498,0.0,0.0,0.0,1\\n0.028068487,0.0,0.0,0.0,0.0,0.0,1\\n1.207367796,0.007130125,0.411170529,0.0,0.0,0.0,1\\n0.0,0.0,0.195828012,0.0,0.0,0.0,1\\n0.660317686,0.0,0.0,0.0,0.0,0.0,1\\n0.0,0.155041727,0.140366996,0.0,0.0,0.0,1\\n0.058665773,15.566543748,0.64867583,0.0,0.0,0.0,1\\n0.058696928,0.052827235,0.138916063,0.0,0.0,0.0,1\\n0.516451479,0.00666389,0.0,0.0,0.0,0.0,1\\n0.112978525,0.0,0.253034547,0.0,0.0,0.0,1\\n1.399440542,2.311739089,0.178804158,0.0,0.0,0.0,1\\n0.051243533,0.0,0.036502243,0.0,0.0,0.0,1\\n1.619217082,0.0,0.15658363,0.0,0.0,0.0,1\\n1.242105263,0.0,0.114127424,0.0,0.0,0.0,1\\n1.862687235,8.791415663,0.221833279,0.0,0.0,0.0,1\\n0.171260997,5.309090909,0.127859238,0.0,0.0,0.0,1\\n0.842998586,11.237623762,0.178217822,0.0,0.0,0.0,1\\n2.599648343,0.0,0.170742694,0.0,0.0,0.0,1\\n0.023988486,0.0,0.011423088,0.0,0.0,0.0,1\\n0.120609675,0.0,0.096090126,0.0,0.0,0.0,1\\n0.42369338,0.0,1.361207898,0.0,0.0,0.0,1\\n0.773406766,7.593233674,0.0,0.0,0.0,0.0,1\\n0.0,0.0,0.143328579,0.0,0.0,0.0,1\\n0.942271339,9.738548786,0.077940963,0.0,0.0,0.0,1\\n0.065261372,0.024146708,0.274097762,0.0,0.0,0.0,1\\n8.468309859,0.0,0.278755869,0.0,0.0,0.0,1\\n0.462344029,0.325868984,0.182895128,0.0,0.0,0.0,1\\n0.258885898,4.702521562,0.315195297,0.0,0.0,0.0,1\\n0.291149711,0.0,0.127377998,0.0,0.0,0.0,1\\n0.902278636,0.0,0.102879228,0.0,0.0,0.0,1\\n0.000558659,0.0,0.094413408,0.0,0.0,0.0,1\\n1.954776665,12.935145446,0.020664441,0.0,0.0,0.0,1\\n2.836879433,0.0,0.166272656,0.0,0.0,0.0,1\\n1.765465465,0.0,0.221021021,0.077177177,0.0,0.0,1\\n3.856391115,0.001529707,0.10402007,0.0,0.0,0.0,1\\n3.52862254,0.0,0.154541841,0.0,0.0,0.0,1\\n1.630342605,11.98906038,0.136391904,0.0,0.0,0.0,1\\n6.814814815,0.0,0.086140439,0.0,0.0,0.0,1\\n7.385644191,0.0,0.11119025,0.0,0.0,0.0,1\\n1.684732624,1.178557351,0.141242938,0.0,0.0,0.0,1\\n1.587927248,0.0,0.270285489,0.0,0.0,0.0,1\\n9.431089476,0.0,0.148923638,0.0,0.0,0.0,1\\n3.25017819,0.0,0.334348474,0.0,0.0,0.0,1\\n0.752833109,10.047759306,1.163529862,0.0,0.0,0.0,1\\n0.0,0.017687075,0.18877551,0.0,0.0,0.0,1\\n0.0,0.0,0.103598232,0.0,0.0,0.0,1\\n0.0,0.0,1.157139824,0.0,0.0,0.0,1\\n0.0,0.0,0.021648145,0.0,0.0,0.0,1\\n0.0,0.0,0.079567656,0.0,0.0,0.0,1\\n6.485411788,0.0,0.171984778,0.0,0.0,0.0,1\\n0.0,0.0,0.161636882,0.0,0.0,0.0,1\\n4.264975221,0.0,0.329939668,0.0,0.0,0.0,1\\n1.429133481,0.0,0.034558659,0.0,0.0,0.0,1\\n0.853902001,13.744247745,0.161778023,0.0,0.0,0.0,1\\n'"
            ],
            "application/vnd.google.colaboratory.intrinsic+json": {
              "type": "string"
            }
          },
          "metadata": {},
          "execution_count": 51
        }
      ]
    },
    {
      "cell_type": "code",
      "source": [
        "with open('features.csv', 'w') as file:\n",
        "  for l in export:\n",
        "    file.write(l)\n",
        "file.closed"
      ],
      "metadata": {
        "colab": {
          "base_uri": "https://localhost:8080/"
        },
        "id": "BnousarLX0-N",
        "outputId": "0c285b9d-1541-4011-c35a-cc3cee980b4c"
      },
      "execution_count": 52,
      "outputs": [
        {
          "output_type": "execute_result",
          "data": {
            "text/plain": [
              "True"
            ]
          },
          "metadata": {},
          "execution_count": 52
        }
      ]
    },
    {
      "cell_type": "code",
      "source": [
        "dataset = pd.read_csv('features.csv')"
      ],
      "metadata": {
        "id": "M6LskA0Bch2P"
      },
      "execution_count": 53,
      "outputs": []
    },
    {
      "cell_type": "markdown",
      "source": [
        "Create Train and Test Sets"
      ],
      "metadata": {
        "id": "8RnQ8hGycuTh"
      }
    },
    {
      "cell_type": "code",
      "source": [
        "X = dataset.iloc[:, 0:6].values\n",
        "y = dataset.iloc[:, 6].values"
      ],
      "metadata": {
        "id": "zCWpacLVcxND"
      },
      "execution_count": 54,
      "outputs": []
    },
    {
      "cell_type": "code",
      "source": [
        "from sklearn.model_selection import train_test_split\n",
        "X_train, X_test, y_train, y_test = train_test_split(X, y, test_size = 0.2, random_state = 1)"
      ],
      "metadata": {
        "id": "jo_GgwYMc7G9"
      },
      "execution_count": 55,
      "outputs": []
    },
    {
      "cell_type": "markdown",
      "source": [
        "Train the NN"
      ],
      "metadata": {
        "id": "f9nzezdjdCxy"
      }
    },
    {
      "cell_type": "code",
      "source": [
        "network2 = tf.keras.models.Sequential()\n",
        "network2.add(tf.keras.layers.Dense(input_shape = (6,), units = 4, activation='relu'))\n",
        "network2.add(tf.keras.layers.Dense(units = 4, activation='relu'))\n",
        "network2.add(tf.keras.layers.Dense(units = 4, activation='relu'))\n",
        "network2.add(tf.keras.layers.Dense(units = 1, activation='sigmoid'))"
      ],
      "metadata": {
        "id": "Q25RLeRzc7zh"
      },
      "execution_count": 56,
      "outputs": []
    },
    {
      "cell_type": "code",
      "source": [
        "network2.summary()"
      ],
      "metadata": {
        "colab": {
          "base_uri": "https://localhost:8080/"
        },
        "id": "YSs3M9GPc76Y",
        "outputId": "9ebfe0ec-2c28-43db-cb5d-60b80bf1dd17"
      },
      "execution_count": 57,
      "outputs": [
        {
          "output_type": "stream",
          "name": "stdout",
          "text": [
            "Model: \"sequential\"\n",
            "_________________________________________________________________\n",
            " Layer (type)                Output Shape              Param #   \n",
            "=================================================================\n",
            " dense (Dense)               (None, 4)                 28        \n",
            "                                                                 \n",
            " dense_1 (Dense)             (None, 4)                 20        \n",
            "                                                                 \n",
            " dense_2 (Dense)             (None, 4)                 20        \n",
            "                                                                 \n",
            " dense_3 (Dense)             (None, 1)                 5         \n",
            "                                                                 \n",
            "=================================================================\n",
            "Total params: 73\n",
            "Trainable params: 73\n",
            "Non-trainable params: 0\n",
            "_________________________________________________________________\n"
          ]
        }
      ]
    },
    {
      "cell_type": "code",
      "source": [
        "network2.compile(optimizer='Adam', loss='binary_crossentropy', metrics = ['accuracy'])"
      ],
      "metadata": {
        "id": "lrpYW_HxdKoI"
      },
      "execution_count": 58,
      "outputs": []
    },
    {
      "cell_type": "code",
      "source": [
        "history = network2.fit(X_train, y_train, epochs = 50)"
      ],
      "metadata": {
        "colab": {
          "base_uri": "https://localhost:8080/"
        },
        "id": "n8Zfqm4ldKqV",
        "outputId": "bf585b91-4aa4-4c48-b4f4-a10ac3073f0b"
      },
      "execution_count": 59,
      "outputs": [
        {
          "output_type": "stream",
          "name": "stdout",
          "text": [
            "Epoch 1/50\n",
            "7/7 [==============================] - 2s 6ms/step - loss: 0.7502 - accuracy: 0.5442\n",
            "Epoch 2/50\n",
            "7/7 [==============================] - 0s 4ms/step - loss: 0.7332 - accuracy: 0.5721\n",
            "Epoch 3/50\n",
            "7/7 [==============================] - 0s 4ms/step - loss: 0.7186 - accuracy: 0.6000\n",
            "Epoch 4/50\n",
            "7/7 [==============================] - 0s 6ms/step - loss: 0.7039 - accuracy: 0.6000\n",
            "Epoch 5/50\n",
            "7/7 [==============================] - 0s 6ms/step - loss: 0.6909 - accuracy: 0.6047\n",
            "Epoch 6/50\n",
            "7/7 [==============================] - 0s 4ms/step - loss: 0.6786 - accuracy: 0.6047\n",
            "Epoch 7/50\n",
            "7/7 [==============================] - 0s 5ms/step - loss: 0.6685 - accuracy: 0.6140\n",
            "Epoch 8/50\n",
            "7/7 [==============================] - 0s 5ms/step - loss: 0.6590 - accuracy: 0.6279\n",
            "Epoch 9/50\n",
            "7/7 [==============================] - 0s 5ms/step - loss: 0.6498 - accuracy: 0.6419\n",
            "Epoch 10/50\n",
            "7/7 [==============================] - 0s 5ms/step - loss: 0.6414 - accuracy: 0.6465\n",
            "Epoch 11/50\n",
            "7/7 [==============================] - 0s 4ms/step - loss: 0.6325 - accuracy: 0.6605\n",
            "Epoch 12/50\n",
            "7/7 [==============================] - 0s 6ms/step - loss: 0.6244 - accuracy: 0.6837\n",
            "Epoch 13/50\n",
            "7/7 [==============================] - 0s 5ms/step - loss: 0.6157 - accuracy: 0.7116\n",
            "Epoch 14/50\n",
            "7/7 [==============================] - 0s 5ms/step - loss: 0.6083 - accuracy: 0.7581\n",
            "Epoch 15/50\n",
            "7/7 [==============================] - 0s 5ms/step - loss: 0.6004 - accuracy: 0.7721\n",
            "Epoch 16/50\n",
            "7/7 [==============================] - 0s 7ms/step - loss: 0.5930 - accuracy: 0.7721\n",
            "Epoch 17/50\n",
            "7/7 [==============================] - 0s 4ms/step - loss: 0.5851 - accuracy: 0.7721\n",
            "Epoch 18/50\n",
            "7/7 [==============================] - 0s 3ms/step - loss: 0.5747 - accuracy: 0.7721\n",
            "Epoch 19/50\n",
            "7/7 [==============================] - 0s 4ms/step - loss: 0.5593 - accuracy: 0.7721\n",
            "Epoch 20/50\n",
            "7/7 [==============================] - 0s 4ms/step - loss: 0.5420 - accuracy: 0.7721\n",
            "Epoch 21/50\n",
            "7/7 [==============================] - 0s 4ms/step - loss: 0.5272 - accuracy: 0.7767\n",
            "Epoch 22/50\n",
            "7/7 [==============================] - 0s 3ms/step - loss: 0.5136 - accuracy: 0.7767\n",
            "Epoch 23/50\n",
            "7/7 [==============================] - 0s 4ms/step - loss: 0.5014 - accuracy: 0.7767\n",
            "Epoch 24/50\n",
            "7/7 [==============================] - 0s 3ms/step - loss: 0.4903 - accuracy: 0.7814\n",
            "Epoch 25/50\n",
            "7/7 [==============================] - 0s 3ms/step - loss: 0.4793 - accuracy: 0.7814\n",
            "Epoch 26/50\n",
            "7/7 [==============================] - 0s 3ms/step - loss: 0.4684 - accuracy: 0.7814\n",
            "Epoch 27/50\n",
            "7/7 [==============================] - 0s 3ms/step - loss: 0.4585 - accuracy: 0.7860\n",
            "Epoch 28/50\n",
            "7/7 [==============================] - 0s 3ms/step - loss: 0.4492 - accuracy: 0.7953\n",
            "Epoch 29/50\n",
            "7/7 [==============================] - 0s 3ms/step - loss: 0.4410 - accuracy: 0.7953\n",
            "Epoch 30/50\n",
            "7/7 [==============================] - 0s 3ms/step - loss: 0.4323 - accuracy: 0.7953\n",
            "Epoch 31/50\n",
            "7/7 [==============================] - 0s 3ms/step - loss: 0.4234 - accuracy: 0.7953\n",
            "Epoch 32/50\n",
            "7/7 [==============================] - 0s 3ms/step - loss: 0.4142 - accuracy: 0.7953\n",
            "Epoch 33/50\n",
            "7/7 [==============================] - 0s 4ms/step - loss: 0.4056 - accuracy: 0.7953\n",
            "Epoch 34/50\n",
            "7/7 [==============================] - 0s 3ms/step - loss: 0.3976 - accuracy: 0.8000\n",
            "Epoch 35/50\n",
            "7/7 [==============================] - 0s 3ms/step - loss: 0.3899 - accuracy: 0.8093\n",
            "Epoch 36/50\n",
            "7/7 [==============================] - 0s 4ms/step - loss: 0.3828 - accuracy: 0.8372\n",
            "Epoch 37/50\n",
            "7/7 [==============================] - 0s 3ms/step - loss: 0.3762 - accuracy: 0.8465\n",
            "Epoch 38/50\n",
            "7/7 [==============================] - 0s 3ms/step - loss: 0.3696 - accuracy: 0.8558\n",
            "Epoch 39/50\n",
            "7/7 [==============================] - 0s 4ms/step - loss: 0.3637 - accuracy: 0.8744\n",
            "Epoch 40/50\n",
            "7/7 [==============================] - 0s 4ms/step - loss: 0.3577 - accuracy: 0.8837\n",
            "Epoch 41/50\n",
            "7/7 [==============================] - 0s 3ms/step - loss: 0.3521 - accuracy: 0.8884\n",
            "Epoch 42/50\n",
            "7/7 [==============================] - 0s 3ms/step - loss: 0.3475 - accuracy: 0.8837\n",
            "Epoch 43/50\n",
            "7/7 [==============================] - 0s 3ms/step - loss: 0.3416 - accuracy: 0.8837\n",
            "Epoch 44/50\n",
            "7/7 [==============================] - 0s 4ms/step - loss: 0.3369 - accuracy: 0.8837\n",
            "Epoch 45/50\n",
            "7/7 [==============================] - 0s 3ms/step - loss: 0.3327 - accuracy: 0.8837\n",
            "Epoch 46/50\n",
            "7/7 [==============================] - 0s 3ms/step - loss: 0.3281 - accuracy: 0.8884\n",
            "Epoch 47/50\n",
            "7/7 [==============================] - 0s 3ms/step - loss: 0.3239 - accuracy: 0.8930\n",
            "Epoch 48/50\n",
            "7/7 [==============================] - 0s 5ms/step - loss: 0.3198 - accuracy: 0.8930\n",
            "Epoch 49/50\n",
            "7/7 [==============================] - 0s 4ms/step - loss: 0.3160 - accuracy: 0.8930\n",
            "Epoch 50/50\n",
            "7/7 [==============================] - 0s 3ms/step - loss: 0.3123 - accuracy: 0.8930\n"
          ]
        }
      ]
    },
    {
      "cell_type": "markdown",
      "source": [
        "Evaluation"
      ],
      "metadata": {
        "id": "I2FFDVdadSwr"
      }
    },
    {
      "cell_type": "code",
      "source": [
        "plt.plot(history.history['loss']);"
      ],
      "metadata": {
        "colab": {
          "base_uri": "https://localhost:8080/",
          "height": 430
        },
        "id": "hqnvKwQadPN6",
        "outputId": "d43c7d0b-a050-4d15-a38a-fecb7eb98699"
      },
      "execution_count": 60,
      "outputs": [
        {
          "output_type": "display_data",
          "data": {
            "text/plain": [
              "<Figure size 640x480 with 1 Axes>"
            ],
            "image/png": "[encoded data removed]"
          },
          "metadata": {}
        }
      ]
    },
    {
      "cell_type": "code",
      "source": [
        "plt.plot(history.history['accuracy']);"
      ],
      "metadata": {
        "colab": {
          "base_uri": "https://localhost:8080/",
          "height": 430
        },
        "id": "FNHg8cwIdPSd",
        "outputId": "05922f65-38a5-47d7-fae8-3bc951840d52"
      },
      "execution_count": 61,
      "outputs": [
        {
          "output_type": "display_data",
          "data": {
            "text/plain": [
              "<Figure size 640x480 with 1 Axes>"
            ],
            "image/png": "[encoded data removed]"
          },
          "metadata": {}
        }
      ]
    },
    {
      "cell_type": "code",
      "source": [
        "predictions = network2.predict(X_test)\n",
        "predictions = (predictions > 0.5)"
      ],
      "metadata": {
        "colab": {
          "base_uri": "https://localhost:8080/"
        },
        "id": "8msAUNSedaOo",
        "outputId": "8fa98fd1-8c00-4912-dc2d-c8f355893cfb"
      },
      "execution_count": 62,
      "outputs": [
        {
          "output_type": "stream",
          "name": "stdout",
          "text": [
            "2/2 [==============================] - 0s 7ms/step\n"
          ]
        }
      ]
    },
    {
      "cell_type": "code",
      "source": [
        "from sklearn.metrics import accuracy_score\n",
        "accuracy_score(y_test, predictions)"
      ],
      "metadata": {
        "colab": {
          "base_uri": "https://localhost:8080/"
        },
        "id": "ARYsLZAidaQ6",
        "outputId": "fb97f62a-dbbe-4ad9-d5f5-8d8a76a3070a"
      },
      "execution_count": 63,
      "outputs": [
        {
          "output_type": "execute_result",
          "data": {
            "text/plain": [
              "0.9074074074074074"
            ]
          },
          "metadata": {},
          "execution_count": 63
        }
      ]
    },
    {
      "cell_type": "code",
      "source": [
        "from sklearn.metrics import confusion_matrix\n",
        "cm = confusion_matrix(y_test, predictions)"
      ],
      "metadata": {
        "id": "oG2syckNdlNK"
      },
      "execution_count": 64,
      "outputs": []
    },
    {
      "cell_type": "code",
      "source": [
        "sns.heatmap(cm, annot=True);"
      ],
      "metadata": {
        "colab": {
          "base_uri": "https://localhost:8080/",
          "height": 430
        },
        "id": "wq35niqydlR7",
        "outputId": "e4720ef4-25f1-406a-d3b6-13ed22d9f7a4"
      },
      "execution_count": 65,
      "outputs": [
        {
          "output_type": "display_data",
          "data": {
            "text/plain": [
              "<Figure size 640x480 with 2 Axes>"
            ],
            "image/png": "[encoded data removed]"
          },
          "metadata": {}
        }
      ]
    },
    {
      "cell_type": "code",
      "source": [
        "from sklearn.metrics import classification_report\n",
        "print(classification_report(y_test, predictions))"
      ],
      "metadata": {
        "colab": {
          "base_uri": "https://localhost:8080/"
        },
        "id": "FDbVOiIddqwK",
        "outputId": "6f0c110b-ef66-4327-e67c-898ca7b8e43a"
      },
      "execution_count": 66,
      "outputs": [
        {
          "output_type": "stream",
          "name": "stdout",
          "text": [
            "              precision    recall  f1-score   support\n",
            "\n",
            "           0       0.90      0.93      0.91        28\n",
            "           1       0.92      0.88      0.90        26\n",
            "\n",
            "    accuracy                           0.91        54\n",
            "   macro avg       0.91      0.91      0.91        54\n",
            "weighted avg       0.91      0.91      0.91        54\n",
            "\n"
          ]
        }
      ]
    },
    {
      "cell_type": "markdown",
      "source": [
        "Save Your Work"
      ],
      "metadata": {
        "id": "CXLhhEkwdzRI"
      }
    },
    {
      "cell_type": "code",
      "source": [
        "model_json = network2.to_json()\n",
        "with open('network2.json','w') as json_file:\n",
        "  json_file.write(model_json)"
      ],
      "metadata": {
        "id": "k54gP9Kvdycr"
      },
      "execution_count": 67,
      "outputs": []
    },
    {
      "cell_type": "code",
      "source": [
        "from keras.models import save_model\n",
        "network2_saved = save_model(network2, '/content/weights2.hdf5')"
      ],
      "metadata": {
        "id": "fgY12mtcdtSm"
      },
      "execution_count": 68,
      "outputs": []
    },
    {
      "cell_type": "code",
      "source": [
        "with open('network2.json', 'r') as json_file:\n",
        "  json_saved_model = json_file.read()"
      ],
      "metadata": {
        "id": "hfpXtXDWd6CD"
      },
      "execution_count": 69,
      "outputs": []
    },
    {
      "cell_type": "code",
      "source": [
        "network2_loaded = tf.keras.models.model_from_json(json_saved_model)\n",
        "network2_loaded.load_weights('weights2.hdf5')\n",
        "network2_loaded.compile(loss = 'binary_crossentropy', optimizer='Adam', metrics=['accuracy'])"
      ],
      "metadata": {
        "id": "MQqypcfCd8nZ"
      },
      "execution_count": 70,
      "outputs": []
    },
    {
      "cell_type": "code",
      "source": [
        "network2_loaded.summary()"
      ],
      "metadata": {
        "colab": {
          "base_uri": "https://localhost:8080/"
        },
        "id": "ILUwpeu4d--1",
        "outputId": "06a4be48-2a70-46bc-84ff-3c90a688046c"
      },
      "execution_count": 71,
      "outputs": [
        {
          "output_type": "stream",
          "name": "stdout",
          "text": [
            "Model: \"sequential\"\n",
            "_________________________________________________________________\n",
            " Layer (type)                Output Shape              Param #   \n",
            "=================================================================\n",
            " dense (Dense)               (None, 4)                 28        \n",
            "                                                                 \n",
            " dense_1 (Dense)             (None, 4)                 20        \n",
            "                                                                 \n",
            " dense_2 (Dense)             (None, 4)                 20        \n",
            "                                                                 \n",
            " dense_3 (Dense)             (None, 1)                 5         \n",
            "                                                                 \n",
            "=================================================================\n",
            "Total params: 73\n",
            "Trainable params: 73\n",
            "Non-trainable params: 0\n",
            "_________________________________________________________________\n"
          ]
        }
      ]
    },
    {
      "cell_type": "code",
      "source": [
        "test_image = X_test[0]\n",
        "test_image = test_image.reshape(1,-1)\n",
        "network2_loaded.predict(test_image)[0][0]\n",
        "if network2_loaded.predict(test_image)[0][0] < 0.5:\n",
        "  print('Bart')\n",
        "else:\n",
        "  print('Homer')"
      ],
      "metadata": {
        "colab": {
          "base_uri": "https://localhost:8080/"
        },
        "id": "zA7waU2YeAy_",
        "outputId": "31c878b7-ad40-404c-979c-7c90978075c5"
      },
      "execution_count": 72,
      "outputs": [
        {
          "output_type": "stream",
          "name": "stdout",
          "text": [
            "1/1 [==============================] - 0s 92ms/step\n",
            "1/1 [==============================] - 0s 28ms/step\n",
            "Bart\n"
          ]
        }
      ]
    }
  ]
}